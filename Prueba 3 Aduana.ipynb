{
 "cells": [
  {
   "cell_type": "markdown",
   "metadata": {},
   "source": [
    "# Prueba 3 DGA (Elias Preza)"
   ]
  },
  {
   "cell_type": "markdown",
   "metadata": {},
   "source": [
    "## Reordenar (String Scramble)"
   ]
  },
  {
   "cell_type": "markdown",
   "metadata": {},
   "source": [
    "Haga que la función StringScramble (str1, str2) tome ambos parámetros que se pasan y devuelva la cadena verdadera si una parte de los caracteres str1 se puede reorganizar para que coincida con str2; de lo contrario, devuelva la cadena falsa. Por ejemplo: si str1 es \"rkqodlw\" y str2 es \"world\", la salida debería devolver verdadero. No se introducirán signos de puntuación ni símbolos con los parámetros.\n",
    "\n",
    "**Ejemplos:**\n",
    "\n",
    "Entrada: \"cdore\" & str2 = \"codificador\"\n",
    "Salida: verdadero\n",
    "Entrada: \"h3llko\" & str2 = \"hola\"\n",
    "Salida: falso"
   ]
  },
  {
   "cell_type": "code",
   "execution_count": 1,
   "metadata": {},
   "outputs": [
    {
     "name": "stdout",
     "output_type": "stream",
     "text": [
      "True\n",
      "False\n"
     ]
    }
   ],
   "source": [
    "import re\n",
    "\n",
    "def StringScramble(str1, str2):\n",
    "    list_str1 = list(str1)\n",
    "    list_str1.sort()\n",
    "    list_str2 = list(str2)\n",
    "    list_str2.sort()\n",
    "\n",
    "    return (list_str2 == list_str1)\n",
    "\n",
    "print(StringScramble('ahlo','hola'))\n",
    "print(StringScramble('agots','gato'))"
   ]
  },
  {
   "cell_type": "markdown",
   "metadata": {},
   "source": [
    "## Comprobador de Fibonacci (Fibonacci Checker)"
   ]
  },
  {
   "cell_type": "markdown",
   "metadata": {},
   "source": [
    "Comprobador de Fibonacci\n",
    "Haga que la función FibonacciChecker (num) devuelva la cadena sí si el número dado es parte de la secuencia de Fibonacci. Esta secuencia se define por: Fn = Fn-1 + Fn-2, lo que significa que para encontrar Fn se suman los dos números anteriores. Los dos primeros números son 0 y 1, luego viene 1, 2, 3, 5, etc. Si num no está en la secuencia de Fibonacci, devuelve la cadena no.\n",
    "\n",
    "**Ejemplos**\n",
    "\n",
    "Entrada: 34\n",
    "Salida: si\n",
    "Entrada: 54\n",
    "Salida: no\n",
    "Examinar Res"
   ]
  },
  {
   "cell_type": "code",
   "execution_count": 2,
   "metadata": {},
   "outputs": [
    {
     "name": "stdout",
     "output_type": "stream",
     "text": [
      "0\n",
      "1\n",
      "1\n",
      "2\n",
      "3\n",
      "5\n",
      "8\n",
      "13\n",
      "21\n",
      "34\n",
      "55\n",
      "89\n",
      "144\n",
      "233\n",
      "377\n",
      "610\n",
      "987\n",
      "1597\n",
      "2584\n",
      "4181\n",
      "1 si es un número Fibonacci\n",
      "2 si es un número Fibonacci\n",
      "3 si es un número Fibonacci\n",
      "4 no es un número Fibonacci\n",
      "5 si es un número Fibonacci\n",
      "6 no es un número Fibonacci\n",
      "7 no es un número Fibonacci\n",
      "8 si es un número Fibonacci\n",
      "9 no es un número Fibonacci\n",
      "10 no es un número Fibonacci\n",
      "11 no es un número Fibonacci\n",
      "12 no es un número Fibonacci\n",
      "13 si es un número Fibonacci\n",
      "14 no es un número Fibonacci\n",
      "15 no es un número Fibonacci\n",
      "16 no es un número Fibonacci\n",
      "17 no es un número Fibonacci\n",
      "18 no es un número Fibonacci\n",
      "19 no es un número Fibonacci\n",
      "20 no es un número Fibonacci\n",
      "21 si es un número Fibonacci\n"
     ]
    }
   ],
   "source": [
    "import math\n",
    "\n",
    "#---Serie fibonacci\n",
    "\n",
    "def fibonacci (n):\n",
    "    if n < 2:\n",
    "        return n\n",
    "    return fibonacci (n-1) + fibonacci (n-2)\n",
    "    \n",
    "for x in range(20):\n",
    "    print(fibonacci(x))\n",
    "\n",
    "#--Comprobación\n",
    "\n",
    "def isPerfectSquare(x):\n",
    "   s = int(math.sqrt(x))\n",
    "   return s*s == x\n",
    "\n",
    "def isFibonacci(n):\n",
    "   \n",
    "   return isPerfectSquare(5*n*n + 4) or isPerfectSquare(5*n*n - 4)\n",
    "for i in range(1,22):\n",
    "   if (isFibonacci(i) == True):\n",
    "      print (i,\"si es un número Fibonacci\")\n",
    "   else:\n",
    "      print (i,\"no es un número Fibonacci\")\n"
   ]
  },
  {
   "cell_type": "markdown",
   "metadata": {},
   "source": [
    "## Selector de Stock (Stock Picker)"
   ]
  },
  {
   "cell_type": "markdown",
   "metadata": {},
   "source": [
    "Selector de stock\n",
    "Haga que la función StockPicker (arr) tome la matriz de números almacenados en arr que contendrá números enteros que representan la cantidad en dólares que vale una sola acción, y devuelva la ganancia máxima que podría haberse obtenido comprando acciones el día xy vendiendo stock el día y donde y> x. Por ejemplo: si arr es [44, 30, 24, 32, 35, 30, 40, 38, 15], su programa debería devolver 16 porque en el índice 2 las acciones valían \\$ 24, y en el índice 6 las acciones valían \\$ 40 , por lo que si compró las acciones a 24 y las vendió a 40, habría obtenido una ganancia de \\$ 16, que es la ganancia máxima que podría haberse obtenido con esta lista de precios de acciones.\n",
    "\n",
    "Si no hay ganancias que podrían haberse obtenido con los precios de las acciones, entonces su programa debería devolver -1. Por ejemplo: arr es [10, 9, 8, 2], entonces su programa debería devolver -1.\n",
    "\n",
    "**Ejemplos**\n",
    "\n",
    "Entrada: [10,12,4,5,9]\n",
    "Salida: 5\n",
    "Entrada: [14,20,4,12,5,11]\n",
    "Salida: 8\n",
    "Vistazo"
   ]
  },
  {
   "cell_type": "code",
   "execution_count": 3,
   "metadata": {},
   "outputs": [
    {
     "name": "stdout",
     "output_type": "stream",
     "text": [
      "76\n",
      "2\n",
      "6\n"
     ]
    }
   ],
   "source": [
    "def StockPicker(arr):\n",
    "    bp=0\n",
    "    sp=0\n",
    "    mp=-1\n",
    "    for r in arr:        \n",
    "        if arr[arr.index(r)+1] > r:\n",
    "            bp=r\n",
    "            break\n",
    "    sp=max(arr[_] for _ in range(arr.index(bp),len(arr)))\n",
    "    if sp-bp > mp:\n",
    "        return sp-bp\n",
    "    else:\n",
    "        return mp\n",
    "print(StockPicker([44, 30, 24, 32, 35, 30, 40, 38, 15,100]))\n",
    "print(StockPicker([10,12,4,5,9]))\n",
    "print(StockPicker([14,20,4,12,5,11]))"
   ]
  },
  {
   "cell_type": "markdown",
   "metadata": {},
   "source": [
    "## Rotación de Matriz (Array Rotation (arr))"
   ]
  },
  {
   "cell_type": "markdown",
   "metadata": {},
   "source": [
    "Haga que la función Array Rotation (arr) tome el parámetro arr que se está pasando, que será una matriz de enteros no negativos y gire circularmente la matriz comenzando desde el elemento N, donde N es igual al primer número entero en la matriz. Por ejemplo: si arr es [2, 3, 4, 1, 6, 10], entonces su programa debe rotar la matriz comenzando desde la segunda posición porque el primer elemento en la matriz es 2. Por lo tanto, la matriz final será [4, 1, 6, 10, 2, 3], y su programa debería devolver la nueva matriz como una cadena, por lo que para este ejemplo su programa devolvería 4161023. El primer elemento de la matriz siempre será un número entero mayor o igual a 0 y menor que el tamaño de la matriz.\n",
    "\n",
    "**Ejemplos**\n",
    "\n",
    "Entrada: [3,2,1,6]\n",
    "Salida: 6321\n",
    "Entrada: [4,3,4,3,1,2]\n",
    "Salida: 124343"
   ]
  },
  {
   "cell_type": "code",
   "execution_count": 4,
   "metadata": {},
   "outputs": [
    {
     "name": "stdout",
     "output_type": "stream",
     "text": [
      " 3  4  5  6  7  8  9  1  2 -----------\n",
      " 6  3  2  1 -----------\n",
      " 1  2  4  3  4  3 "
     ]
    }
   ],
   "source": [
    "\n",
    "def leftRotate(arr, d, n): \n",
    "    for i in range(d): \n",
    "        leftRotatebyOne(arr, n) \n",
    "  \n",
    " \n",
    "def leftRotatebyOne(arr, n): \n",
    "    temp = arr[0] \n",
    "    for i in range(n-1): \n",
    "        arr[i] = arr[i + 1] \n",
    "    arr[n-1] = temp \n",
    "          \n",
    "  \n",
    "\n",
    "def printArray(arr, size): \n",
    "    for i in range(size): \n",
    "        print (\"% d\"% arr[i], end =\" \") \n",
    "  \n",
    "   \n",
    "arr = [1,2,3,4,5,6,7,8,9] \n",
    "leftRotate(arr, 2, 9) \n",
    "printArray(arr, 9) \n",
    "\n",
    "print(\"-----------\")\n",
    "\n",
    "arr = [3,2,1,6] \n",
    "leftRotate(arr, 3, 4) \n",
    "printArray(arr, 4)\n",
    "\n",
    "print(\"-----------\")\n",
    "\n",
    "arr = [4,3,4,3,1,2] \n",
    "leftRotate(arr, 4, 6) \n",
    "printArray(arr, 6)"
   ]
  },
  {
   "cell_type": "code",
   "execution_count": null,
   "metadata": {},
   "outputs": [],
   "source": []
  }
 ],
 "metadata": {
  "kernelspec": {
   "display_name": "Python 3",
   "language": "python",
   "name": "python3"
  },
  "language_info": {
   "codemirror_mode": {
    "name": "ipython",
    "version": 3
   },
   "file_extension": ".py",
   "mimetype": "text/x-python",
   "name": "python",
   "nbconvert_exporter": "python",
   "pygments_lexer": "ipython3",
   "version": "3.7.6"
  },
  "toc": {
   "base_numbering": 1,
   "nav_menu": {},
   "number_sections": true,
   "sideBar": true,
   "skip_h1_title": false,
   "title_cell": "Table of Contents",
   "title_sidebar": "Contents",
   "toc_cell": false,
   "toc_position": {},
   "toc_section_display": true,
   "toc_window_display": false
  }
 },
 "nbformat": 4,
 "nbformat_minor": 2
}
